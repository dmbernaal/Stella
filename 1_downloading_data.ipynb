{
 "cells": [
  {
   "cell_type": "markdown",
   "metadata": {},
   "source": [
    "# Downloading Data \n",
    "We will be using https://github.com/hootnot/oanda-api-v20 \n",
    "\n",
    "Before running the script we highly recommend you install all dependencies running the following cells. You may also have to update the **access_token** as it's set to mine for now. \n",
    "\n",
    "In future developments we will use a **docker image** to handle all of this"
   ]
  },
  {
   "cell_type": "code",
   "execution_count": null,
   "metadata": {},
   "outputs": [],
   "source": [
    "# # single dependency\n",
    "# !pip install oandapyV20"
   ]
  },
  {
   "cell_type": "code",
   "execution_count": 61,
   "metadata": {},
   "outputs": [],
   "source": [
    "import sys\n",
    "import json\n",
    "import time\n",
    "import os\n",
    "from datetime import date\n",
    "from oandapyV20.contrib.factories import InstrumentsCandlesFactory\n",
    "from oandapyV20 import API"
   ]
  },
  {
   "cell_type": "code",
   "execution_count": 62,
   "metadata": {},
   "outputs": [],
   "source": [
    "# setup\n",
    "access_token = \"5cc68709f7b53e5ef9679be1e57d47a9-eb33c86e95b956c7e60088ca17242855\" # change this\n",
    "client = API(access_token=access_token)"
   ]
  },
  {
   "cell_type": "code",
   "execution_count": 63,
   "metadata": {},
   "outputs": [],
   "source": [
    "# Functions to pull data\n",
    "def cnv(r, h):\n",
    "    for candle in r.get('candles'):\n",
    "        ctime = candle.get('time')[0:19]\n",
    "        try:\n",
    "            rec = \"{time},{complete},{o},{h},{l},{c},{v}\".format(\n",
    "                time=ctime,\n",
    "                complete=candle['complete'],\n",
    "                o=candle['mid']['o'],\n",
    "                h=candle['mid']['h'],\n",
    "                l=candle['mid']['l'],\n",
    "                c=candle['mid']['c'],\n",
    "                v=candle['volume'],\n",
    "            )\n",
    "        except Exception as e:\n",
    "            print(e, r)\n",
    "        else:\n",
    "            h.write(rec+\"\\n\")\n",
    "\n",
    "def download_data(start_date, end_date, gr, instr, path):\n",
    "    _from = f'{start_date.isoformat()}T00:00:00Z'\n",
    "    _to = f'{end_date.isoformat()}T00:00:00Z'\n",
    "    gran = gr\n",
    "    instr_ = instr\n",
    "\n",
    "    params = {\n",
    "        \"granularity\": gran,\n",
    "        \"from\": _from,\n",
    "        \"to\": _to\n",
    "    }\n",
    "    \n",
    "    with open(f'{path}/{instr}_{gran}_{start_date.isoformat()}_{end_date.isoformat()}.csv', \"w\") as O:\n",
    "        for r in InstrumentsCandlesFactory(instrument=instr_, params=params):\n",
    "            print(\"REQUEST: {} {} {}\".format(r, r.__class__.__name__, r.params))\n",
    "            rv = client.request(r)\n",
    "            cnv(r.response, O)"
   ]
  },
  {
   "cell_type": "markdown",
   "metadata": {},
   "source": [
    "```Class datetime.date(year, month, day)```\n",
    "\n",
    "All arguments are required. Arguments may be integers, in the following ranges:\n",
    "\n",
    "    MINYEAR <= year <= MAXYEAR\n",
    "    1 <= month <= 12\n",
    "    1 <= day <= number of days in the given month and year"
   ]
  },
  {
   "cell_type": "code",
   "execution_count": 70,
   "metadata": {},
   "outputs": [],
   "source": [
    "# Setting our variables\n",
    "start_date = date(2009,6,1) # (year, month, day)\n",
    "end_date = date(2018,6,1) # (year, month, day)\n",
    "gr = 'D'\n",
    "instrument = 'GBP_USD'\n",
    "path = f'{os.curdir}/data/raw' # where you want to store the data"
   ]
  },
  {
   "cell_type": "code",
   "execution_count": 71,
   "metadata": {},
   "outputs": [
    {
     "name": "stdout",
     "output_type": "stream",
     "text": [
      "REQUEST: v3/instruments/GBP_USD/candles InstrumentsCandles {'granularity': 'D', 'includeFirst': True, 'from': '2009-06-01T00:00:00Z', 'to': '2010-10-14T00:00:00Z'}\n",
      "REQUEST: v3/instruments/GBP_USD/candles InstrumentsCandles {'granularity': 'D', 'includeFirst': True, 'from': '2010-10-14T00:00:00Z', 'to': '2012-02-26T00:00:00Z'}\n",
      "REQUEST: v3/instruments/GBP_USD/candles InstrumentsCandles {'granularity': 'D', 'includeFirst': True, 'from': '2012-02-26T00:00:00Z', 'to': '2013-07-10T00:00:00Z'}\n",
      "REQUEST: v3/instruments/GBP_USD/candles InstrumentsCandles {'granularity': 'D', 'includeFirst': True, 'from': '2013-07-10T00:00:00Z', 'to': '2014-11-22T00:00:00Z'}\n",
      "REQUEST: v3/instruments/GBP_USD/candles InstrumentsCandles {'granularity': 'D', 'includeFirst': True, 'from': '2014-11-22T00:00:00Z', 'to': '2016-04-05T00:00:00Z'}\n",
      "REQUEST: v3/instruments/GBP_USD/candles InstrumentsCandles {'granularity': 'D', 'includeFirst': True, 'from': '2016-04-05T00:00:00Z', 'to': '2017-08-18T00:00:00Z'}\n",
      "REQUEST: v3/instruments/GBP_USD/candles InstrumentsCandles {'granularity': 'D', 'includeFirst': True, 'from': '2017-08-18T00:00:00Z', 'to': '2018-06-01T00:00:00Z'}\n"
     ]
    }
   ],
   "source": [
    "# Testing\n",
    "download_data(start_date, end_date, gr, instrument, path)"
   ]
  },
  {
   "cell_type": "code",
   "execution_count": null,
   "metadata": {},
   "outputs": [],
   "source": []
  },
  {
   "cell_type": "code",
   "execution_count": null,
   "metadata": {},
   "outputs": [],
   "source": []
  },
  {
   "cell_type": "code",
   "execution_count": null,
   "metadata": {},
   "outputs": [],
   "source": []
  }
 ],
 "metadata": {
  "kernelspec": {
   "display_name": "Python 3",
   "language": "python",
   "name": "python3"
  },
  "language_info": {
   "codemirror_mode": {
    "name": "ipython",
    "version": 3
   },
   "file_extension": ".py",
   "mimetype": "text/x-python",
   "name": "python",
   "nbconvert_exporter": "python",
   "pygments_lexer": "ipython3",
   "version": "3.6.8"
  }
 },
 "nbformat": 4,
 "nbformat_minor": 2
}
