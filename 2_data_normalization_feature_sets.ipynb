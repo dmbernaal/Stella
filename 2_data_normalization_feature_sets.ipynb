{
 "cells": [
  {
   "cell_type": "markdown",
   "metadata": {},
   "source": [
    "# Data Normalization & Feature Sets\n",
    "In this notebook we will take our data gathered from **1_downloading_data.ipynb** and conduct the following: \n",
    "* Create a **pandas df**\n",
    "* Add **27 features** represented as a column for each utilizing: https://github.com/mrjbq7/ta-lib\n",
    "* Add **normalized/stationary close** as the **28th feature** \n",
    "* Create a new **pandas df** with **28 total columns** & **n rows = time series** \n",
    "* Save our new **pandas df** as a **csv** within the same directory\n",
    "\n",
    "### 28 feature set\n",
    "```python\n",
    "# tuple: first value = parameters, second value = features\n",
    "features = {\n",
    "    tanh(stationary(close)): (0, 1),\n",
    "    volume: (0, 1),\n",
    "    RSI: ([15,20,25,30], 4),\n",
    "    SMA: ([15,20,25,30], 4),\n",
    "    MACD: ([[26,12],[28,14],[30,16]], 3),\n",
    "    MACD_Trigger: ([[9,26,12],[10,28,14],[11,30,16]], 3),\n",
    "    William_R: ([14,18,22], 3),\n",
    "    Stochastic_Oscillator: ([14,18,22], 3),\n",
    "    Ultimate_Oscillator: ([[7,14,28],[8,16,22],[9,18,36]], 3),\n",
    "    MFI: ([14,18,22], 3)\n",
    "}\n",
    "```\n",
    "\n",
    "Once our new **pandas df** is created, we will then conduct a **sliding window** approach to create our images. This will be conducted in **notebook 3** \n",
    "\n",
    "## Oanda Error / Bug \n",
    "There seems to be a small *bug* when pulling data from **Oanda**. When you run **1_downloading_data.ipynb**, you may have put a date range such as: (2019,2,17) to (2019,3,10) \n",
    "\n",
    "For some reason, **Oanda** will then return that data with a new range set back a date. The data you wanted to pull was still pulled, it just seems to display differently. \n",
    "\n",
    "Therefor to correct this error we add **one day** to our **date column** and then make that our index\n",
    "\n",
    "\n",
    "### side note\n",
    "Trading days are **Monday to Friday** thus if you pulled data and it's not represented a certain way (skipped days), it's because of weekends."
   ]
  },
  {
   "cell_type": "code",
   "execution_count": null,
   "metadata": {},
   "outputs": [],
   "source": [
    "# # Installing single dependency\n",
    "# !brew install ta-lib\n",
    "# !pip install TA-Lib"
   ]
  },
  {
   "cell_type": "code",
   "execution_count": 1,
   "metadata": {},
   "outputs": [],
   "source": [
    "import pandas as pd\n",
    "import numpy as np\n",
    "import os\n",
    "from ta import *\n",
    "import time\n",
    "from datetime import date\n",
    "from datetime import datetime \n",
    "from datetime import timedelta\n",
    "\n",
    "import talib\n",
    "from talib import abstract\n",
    "from talib import MA_Type"
   ]
  },
  {
   "cell_type": "markdown",
   "metadata": {},
   "source": [
    "## Loading & Fixing Error"
   ]
  },
  {
   "cell_type": "code",
   "execution_count": 2,
   "metadata": {},
   "outputs": [
    {
     "data": {
      "text/plain": [
       "['GBP_USD_D_2019-02-27_2019-03-10.csv',\n",
       " 'GBP_USD_D_2018-02-01_2019-02-01.csv',\n",
       " 'GBP_USD_D_2005-04-01_2017-04-01.csv',\n",
       " 'GBP_USD_D_2009-06-01_2018-06-01.csv',\n",
       " 'GBP_USD_D_2000-04-01_2017-04-01.csv',\n",
       " '.ipynb_checkpoints']"
      ]
     },
     "execution_count": 2,
     "metadata": {},
     "output_type": "execute_result"
    }
   ],
   "source": [
    "# listing csv files\n",
    "os.listdir(f'{os.curdir}/data/raw') "
   ]
  },
  {
   "cell_type": "code",
   "execution_count": 3,
   "metadata": {},
   "outputs": [],
   "source": [
    "# Change this value to the file you want\n",
    "file = 'GBP_USD_D_2009-06-01_2018-06-01.csv'"
   ]
  },
  {
   "cell_type": "code",
   "execution_count": 4,
   "metadata": {},
   "outputs": [],
   "source": [
    "# loading data\n",
    "data_path = f'{os.curdir}/data/raw/{file}'\n",
    "df = pd.read_csv(data_path, names=['time', 'complete', 'open', 'high', 'low', 'close', 'volume'])\n",
    "\n",
    "\"\"\"THE FOLLOWING ASSUMED YOU HAVE USED OANDA API TO SCRAPE DATA\"\"\"\n",
    "# converting time to datetime\n",
    "df['time'] = pd.to_datetime(df['time'])\n",
    "\n",
    "# correcting our error \n",
    "df['time'] = df['time'] + timedelta(days=1)\n",
    "\n",
    "# setting time as our index\n",
    "df.set_index('time',inplace=True)"
   ]
  },
  {
   "cell_type": "code",
   "execution_count": 5,
   "metadata": {},
   "outputs": [
    {
     "name": "stdout",
     "output_type": "stream",
     "text": [
      "<class 'pandas.core.frame.DataFrame'>\n",
      "DatetimeIndex: 2670 entries, 2009-06-01 21:00:00 to 2018-06-01 21:00:00\n",
      "Data columns (total 6 columns):\n",
      "complete    2670 non-null bool\n",
      "open        2670 non-null float64\n",
      "high        2670 non-null float64\n",
      "low         2670 non-null float64\n",
      "close       2670 non-null float64\n",
      "volume      2670 non-null int64\n",
      "dtypes: bool(1), float64(4), int64(1)\n",
      "memory usage: 127.8 KB\n"
     ]
    }
   ],
   "source": [
    "df.info()"
   ]
  },
  {
   "cell_type": "code",
   "execution_count": 6,
   "metadata": {},
   "outputs": [
    {
     "data": {
      "text/html": [
       "<div>\n",
       "<style scoped>\n",
       "    .dataframe tbody tr th:only-of-type {\n",
       "        vertical-align: middle;\n",
       "    }\n",
       "\n",
       "    .dataframe tbody tr th {\n",
       "        vertical-align: top;\n",
       "    }\n",
       "\n",
       "    .dataframe thead th {\n",
       "        text-align: right;\n",
       "    }\n",
       "</style>\n",
       "<table border=\"1\" class=\"dataframe\">\n",
       "  <thead>\n",
       "    <tr style=\"text-align: right;\">\n",
       "      <th></th>\n",
       "      <th>complete</th>\n",
       "      <th>open</th>\n",
       "      <th>high</th>\n",
       "      <th>low</th>\n",
       "      <th>close</th>\n",
       "      <th>volume</th>\n",
       "    </tr>\n",
       "    <tr>\n",
       "      <th>time</th>\n",
       "      <th></th>\n",
       "      <th></th>\n",
       "      <th></th>\n",
       "      <th></th>\n",
       "      <th></th>\n",
       "      <th></th>\n",
       "    </tr>\n",
       "  </thead>\n",
       "  <tbody>\n",
       "    <tr>\n",
       "      <th>2018-05-30 21:00:00</th>\n",
       "      <td>True</td>\n",
       "      <td>1.32461</td>\n",
       "      <td>1.33078</td>\n",
       "      <td>1.32423</td>\n",
       "      <td>1.32830</td>\n",
       "      <td>80504</td>\n",
       "    </tr>\n",
       "    <tr>\n",
       "      <th>2018-05-31 21:00:00</th>\n",
       "      <td>True</td>\n",
       "      <td>1.32902</td>\n",
       "      <td>1.33484</td>\n",
       "      <td>1.32773</td>\n",
       "      <td>1.32962</td>\n",
       "      <td>78392</td>\n",
       "    </tr>\n",
       "    <tr>\n",
       "      <th>2018-06-01 21:00:00</th>\n",
       "      <td>True</td>\n",
       "      <td>1.32974</td>\n",
       "      <td>1.33618</td>\n",
       "      <td>1.32544</td>\n",
       "      <td>1.33473</td>\n",
       "      <td>76178</td>\n",
       "    </tr>\n",
       "  </tbody>\n",
       "</table>\n",
       "</div>"
      ],
      "text/plain": [
       "                     complete     open     high      low    close  volume\n",
       "time                                                                     \n",
       "2018-05-30 21:00:00      True  1.32461  1.33078  1.32423  1.32830   80504\n",
       "2018-05-31 21:00:00      True  1.32902  1.33484  1.32773  1.32962   78392\n",
       "2018-06-01 21:00:00      True  1.32974  1.33618  1.32544  1.33473   76178"
      ]
     },
     "execution_count": 6,
     "metadata": {},
     "output_type": "execute_result"
    }
   ],
   "source": [
    "df.tail(3)"
   ]
  },
  {
   "cell_type": "code",
   "execution_count": 7,
   "metadata": {},
   "outputs": [
    {
     "data": {
      "text/html": [
       "<div>\n",
       "<style scoped>\n",
       "    .dataframe tbody tr th:only-of-type {\n",
       "        vertical-align: middle;\n",
       "    }\n",
       "\n",
       "    .dataframe tbody tr th {\n",
       "        vertical-align: top;\n",
       "    }\n",
       "\n",
       "    .dataframe thead th {\n",
       "        text-align: right;\n",
       "    }\n",
       "</style>\n",
       "<table border=\"1\" class=\"dataframe\">\n",
       "  <thead>\n",
       "    <tr style=\"text-align: right;\">\n",
       "      <th></th>\n",
       "      <th>complete</th>\n",
       "      <th>open</th>\n",
       "      <th>high</th>\n",
       "      <th>low</th>\n",
       "      <th>close</th>\n",
       "      <th>volume</th>\n",
       "    </tr>\n",
       "    <tr>\n",
       "      <th>time</th>\n",
       "      <th></th>\n",
       "      <th></th>\n",
       "      <th></th>\n",
       "      <th></th>\n",
       "      <th></th>\n",
       "      <th></th>\n",
       "    </tr>\n",
       "  </thead>\n",
       "  <tbody>\n",
       "    <tr>\n",
       "      <th>2009-06-01 21:00:00</th>\n",
       "      <td>True</td>\n",
       "      <td>1.61959</td>\n",
       "      <td>1.6498</td>\n",
       "      <td>1.6162</td>\n",
       "      <td>1.6444</td>\n",
       "      <td>99711</td>\n",
       "    </tr>\n",
       "  </tbody>\n",
       "</table>\n",
       "</div>"
      ],
      "text/plain": [
       "                     complete     open    high     low   close  volume\n",
       "time                                                                  \n",
       "2009-06-01 21:00:00      True  1.61959  1.6498  1.6162  1.6444   99711"
      ]
     },
     "execution_count": 7,
     "metadata": {},
     "output_type": "execute_result"
    }
   ],
   "source": [
    "df.head(1)"
   ]
  },
  {
   "cell_type": "markdown",
   "metadata": {},
   "source": [
    "## Features\n",
    "Now we will create a new df with the features we want. We will first add our features and then add ```tanh(stationary(close))```. Once we have all features we will create a ```final_df``` containing just **28 columns** each column with a specific feature & arrange them accordingly. "
   ]
  },
  {
   "cell_type": "code",
   "execution_count": 8,
   "metadata": {},
   "outputs": [],
   "source": [
    "# Making copy\n",
    "f_df = df.copy()"
   ]
  },
  {
   "cell_type": "code",
   "execution_count": 9,
   "metadata": {},
   "outputs": [],
   "source": [
    "\"\"\"\n",
    "RSI\n",
    "Parameters = [15, 20, 25, 30]\n",
    "\"\"\"\n",
    "f_df['RSI_15'] = talib.RSI(f_df['close'], timeperiod=15)\n",
    "f_df['RSI_20'] = talib.RSI(f_df['close'], timeperiod=20)\n",
    "f_df['RSI_25'] = talib.RSI(f_df['close'], timeperiod=25)\n",
    "f_df['RSI_30'] = talib.RSI(f_df['close'], timeperiod=30)"
   ]
  },
  {
   "cell_type": "code",
   "execution_count": 10,
   "metadata": {},
   "outputs": [],
   "source": [
    "\"\"\"\n",
    "SMA\n",
    "Parameters = [15, 20, 25, 30]\n",
    "\"\"\"\n",
    "f_df['SMA_15'] = talib.SMA(f_df['close'], timeperiod=15)\n",
    "f_df['SMA_20'] = talib.SMA(f_df['close'], timeperiod=20)\n",
    "f_df['SMA_25'] = talib.SMA(f_df['close'], timeperiod=25)\n",
    "f_df['SMA_30'] = talib.SMA(f_df['close'], timeperiod=30)"
   ]
  },
  {
   "cell_type": "code",
   "execution_count": 11,
   "metadata": {},
   "outputs": [],
   "source": [
    "\"\"\"\n",
    "MACD\n",
    "Parameters = [[26, 12], [28, 14], [30, 16]]\n",
    "\"\"\"\n",
    "macd_26_12 , _, __ = talib.MACD(f_df['close'], fastperiod=12, slowperiod=26, signalperiod=9)\n",
    "macd_28_14 , _, __ = talib.MACD(f_df['close'], fastperiod=14, slowperiod=28, signalperiod=9)\n",
    "macd_30_16 , _, __ = talib.MACD(f_df['close'], fastperiod=16, slowperiod=30, signalperiod=9)\n",
    "\n",
    "f_df['MACD_26_12'] = macd_26_12\n",
    "f_df['MACD_28_14'] = macd_28_14\n",
    "f_df['MACD_30_16'] = macd_30_16"
   ]
  },
  {
   "cell_type": "code",
   "execution_count": 12,
   "metadata": {},
   "outputs": [],
   "source": [
    "\"\"\"\n",
    "MACD Histogram \n",
    "Parameters = [[9, 26, 12], [10, 28, 14], [11, 30, 16]]\n",
    "\"\"\"\n",
    "macd_H_9_26_12 , _, __ = talib.MACD(f_df['close'], fastperiod=12, slowperiod=26, signalperiod=9)\n",
    "macd_H_10_28_14 , _, __ = talib.MACD(f_df['close'], fastperiod=14, slowperiod=28, signalperiod=10)\n",
    "macd_H_11_30_16 , _, __ = talib.MACD(f_df['close'], fastperiod=16, slowperiod=30, signalperiod=11)\n",
    "\n",
    "f_df['MACD_H_9_26_12'] = macd_H_9_26_12\n",
    "f_df['MACD_H_10_28_14'] = macd_H_10_28_14\n",
    "f_df['MACD_H_11_30_16'] = macd_H_11_30_16"
   ]
  },
  {
   "cell_type": "code",
   "execution_count": 13,
   "metadata": {},
   "outputs": [],
   "source": [
    "\"\"\"\n",
    "William_R\n",
    "Parameters = [14, 18, 22]\n",
    "\"\"\"\n",
    "f_df['William_R_14'] = talib.WILLR(f_df['high'], f_df['low'], f_df['close'], timeperiod=14)\n",
    "f_df['William_R_18'] = talib.WILLR(f_df['high'], f_df['low'], f_df['close'], timeperiod=18)\n",
    "f_df['William_R_22'] = talib.WILLR(f_df['high'], f_df['low'], f_df['close'], timeperiod=22)"
   ]
  },
  {
   "cell_type": "code",
   "execution_count": 14,
   "metadata": {},
   "outputs": [],
   "source": [
    "\"\"\"\n",
    "Stochastic Oscillator\n",
    "Parameters = [14, 18, 22]\n",
    "\"\"\"\n",
    "def stoch_osc(df_, n_days):\n",
    "    \"\"\"\n",
    "    df_: the dataframe we will run through \n",
    "    n_days: size of our window or 'timeperoid'\n",
    "    \n",
    "    Assumes:\n",
    "        column_names = ['close', 'low', 'high']\n",
    "    \"\"\"\n",
    "    \n",
    "    # Change these values if you have changed the column values\n",
    "    closes = df_['close']\n",
    "    lowest_values = df_['low'].rolling(n_days).min()\n",
    "    highest_values = df_['high'].rolling(n_days).max()\n",
    "    \n",
    "    # Calculating stochastic value of indicator\n",
    "    k = ((closes - lowest_values) / (highest_values - lowest_values)) * 100\n",
    "    \n",
    "    return k\n",
    "    \n",
    "    \n",
    "f_df['Stoch_14'] = stoch_osc(f_df, 14)\n",
    "f_df['Stoch_18'] = stoch_osc(f_df, 18)\n",
    "f_df['Stoch_22'] = stoch_osc(f_df, 22)"
   ]
  },
  {
   "cell_type": "code",
   "execution_count": 15,
   "metadata": {},
   "outputs": [],
   "source": [
    "\"\"\"\n",
    "Ultimate Oscillator\n",
    "Parameters = [[7, 14, 28], [8, 16, 22], [9, 18, 36]]\n",
    "\"\"\"\n",
    "f_df['Ultimate_7_14_28'] = talib.ULTOSC(f_df['high'], f_df['low'], f_df['close'], timeperiod1=7, timeperiod2=14, timeperiod3=28)\n",
    "\n",
    "f_df['Ultimate_8_16_22'] = talib.ULTOSC(f_df['high'], f_df['low'], f_df['close'], timeperiod1=8, timeperiod2=16, timeperiod3=22)\n",
    "\n",
    "f_df['Ultimate_9_18_36'] = talib.ULTOSC(f_df['high'], f_df['low'], f_df['close'], timeperiod1=9, timeperiod2=18, timeperiod3=36)"
   ]
  },
  {
   "cell_type": "code",
   "execution_count": 16,
   "metadata": {},
   "outputs": [],
   "source": [
    "\"\"\"\n",
    "MFI (Money Flow Index)\n",
    "Parameters = [14, 18, 22]\n",
    "\"\"\"\n",
    "f_df['MFI_14'] = talib.MFI(f_df['high'], f_df['low'], f_df['close'], f_df['volume'], timeperiod=14)\n",
    "f_df['MFI_18'] = talib.MFI(f_df['high'], f_df['low'], f_df['close'], f_df['volume'], timeperiod=18)\n",
    "f_df['MFI_22'] = talib.MFI(f_df['high'], f_df['low'], f_df['close'], f_df['volume'], timeperiod=22)"
   ]
  },
  {
   "cell_type": "markdown",
   "metadata": {},
   "source": [
    "## Stationary Close & Tanh\n",
    "We will now add our **tanh(stationary(close))** value\n",
    "* Calculate First Difference\n",
    "* Calculate those value through a non-linear tanh function \n",
    "\n",
    "This will allow for the closing prices to range between {-1,1}"
   ]
  },
  {
   "cell_type": "code",
   "execution_count": 17,
   "metadata": {},
   "outputs": [],
   "source": [
    "stationary_close = np.tanh(f_df['close'].diff())\n",
    "f_df['Stationary_Close'] = stationary_close"
   ]
  },
  {
   "cell_type": "code",
   "execution_count": 18,
   "metadata": {},
   "outputs": [
    {
     "name": "stdout",
     "output_type": "stream",
     "text": [
      "buy: 1281\n",
      "sell: 1389\n"
     ]
    }
   ],
   "source": [
    "# Counting how many labels we have generated\n",
    "c_count_buy = list()\n",
    "c_count_sell = list()\n",
    "for c in stationary_close.values:\n",
    "    if c > 0:\n",
    "        c_count_buy.append(c)\n",
    "    else:\n",
    "        c_count_sell.append(c)\n",
    "\n",
    "print(f'buy: {len(c_count_buy)}')\n",
    "print(f'sell: {len(c_count_sell)}')"
   ]
  },
  {
   "cell_type": "code",
   "execution_count": 19,
   "metadata": {},
   "outputs": [
    {
     "data": {
      "text/plain": [
       "33"
      ]
     },
     "execution_count": 19,
     "metadata": {},
     "output_type": "execute_result"
    }
   ],
   "source": [
    "# we need to trim this down to 28 with our wanted features\n",
    "len(list(f_df.columns))"
   ]
  },
  {
   "cell_type": "code",
   "execution_count": 21,
   "metadata": {},
   "outputs": [],
   "source": [
    "# datastore - final dataframe before converting into images\n",
    "ds_df = f_df.copy()"
   ]
  },
  {
   "cell_type": "code",
   "execution_count": 22,
   "metadata": {},
   "outputs": [],
   "source": [
    "# # Label Version One\n",
    "# ds_df.drop(columns=['complete', 'open', 'high', 'low', 'close'],inplace=True)\n",
    "\n",
    "# Label Version Two\n",
    "ds_df.drop(columns=['complete', 'high', 'low'],inplace=True)"
   ]
  },
  {
   "cell_type": "code",
   "execution_count": 23,
   "metadata": {},
   "outputs": [
    {
     "data": {
      "text/plain": [
       "30"
      ]
     },
     "execution_count": 23,
     "metadata": {},
     "output_type": "execute_result"
    }
   ],
   "source": [
    "len(list(ds_df.columns))"
   ]
  },
  {
   "cell_type": "code",
   "execution_count": 24,
   "metadata": {},
   "outputs": [],
   "source": [
    "# # VERSION 1 - Now we will rearrange them - this is to attempt to replicate whitepaper \n",
    "# new_order = ['Stationary_Close', 'volume', 'RSI_15', 'RSI_20', 'RSI_25', 'RSI_30', 'SMA_15', 'SMA_20', 'SMA_25', 'SMA_30', 'MACD_26_12', 'MACD_28_14', 'MACD_30_16', 'MACD_H_9_26_12', 'MACD_H_10_28_14', 'MACD_H_11_30_16', 'William_R_14', 'William_R_18', 'William_R_22', 'Stoch_14', 'Stoch_18', 'Stoch_22', 'Ultimate_7_14_28', 'Ultimate_8_16_22', 'Ultimate_9_18_36', 'MFI_14', 'MFI_18', 'MFI_22']\n",
    "\n",
    "\n",
    "# VERSION 2 \n",
    "new_order = ['Stationary_Close', 'volume', 'RSI_15', 'RSI_20', 'RSI_25', 'RSI_30', 'SMA_15', 'SMA_20', 'SMA_25', 'SMA_30', 'MACD_26_12', 'MACD_28_14', 'MACD_30_16', 'MACD_H_9_26_12', 'MACD_H_10_28_14', 'MACD_H_11_30_16', 'William_R_14', 'William_R_18', 'William_R_22', 'Stoch_14', 'Stoch_18', 'Stoch_22', 'Ultimate_7_14_28', 'Ultimate_8_16_22', 'Ultimate_9_18_36', 'MFI_14', 'MFI_18', 'MFI_22', 'open', 'close']\n",
    "\n",
    "ds_df = ds_df[new_order]"
   ]
  },
  {
   "cell_type": "code",
   "execution_count": 25,
   "metadata": {},
   "outputs": [],
   "source": [
    "# Normalizing volume\n",
    "from sklearn.preprocessing import RobustScaler\n",
    "\n",
    "transformer = RobustScaler().fit(np.array(ds_df['volume'].values).reshape(-1,1))\n",
    "transformer\n",
    "RobustScaler(copy=True, quantile_range=(25.0, 75.0), with_centering=True,\n",
    "       with_scaling=True)\n",
    "new_vol = transformer.transform(np.array(ds_df['volume'].values).reshape(-1,1))"
   ]
  },
  {
   "cell_type": "code",
   "execution_count": 26,
   "metadata": {},
   "outputs": [],
   "source": [
    "df['new_vol'] = new_vol"
   ]
  },
  {
   "cell_type": "code",
   "execution_count": 295,
   "metadata": {},
   "outputs": [
    {
     "data": {
      "text/plain": [
       "[<matplotlib.lines.Line2D at 0x1a24f25cf8>]"
      ]
     },
     "execution_count": 295,
     "metadata": {},
     "output_type": "execute_result"
    },
    {
     "data": {
      "image/png": "[encoded data removed]",
      "text/plain": [
       "<Figure size 432x288 with 1 Axes>"
      ]
     },
     "metadata": {
      "needs_background": "light"
     },
     "output_type": "display_data"
    }
   ],
   "source": [
    "plt.plot(df['new_vol'].values)"
   ]
  },
  {
   "cell_type": "code",
   "execution_count": 296,
   "metadata": {},
   "outputs": [
    {
     "data": {
      "text/plain": [
       "[<matplotlib.lines.Line2D at 0x1a24ffb048>]"
      ]
     },
     "execution_count": 296,
     "metadata": {},
     "output_type": "execute_result"
    },
    {
     "data": {
      "image/png": "[encoded data removed]",
      "text/plain": [
       "<Figure size 432x288 with 1 Axes>"
      ]
     },
     "metadata": {
      "needs_background": "light"
     },
     "output_type": "display_data"
    }
   ],
   "source": [
    "plt.plot(df['volume'].values)"
   ]
  },
  {
   "cell_type": "code",
   "execution_count": 27,
   "metadata": {},
   "outputs": [],
   "source": [
    "# replacing values\n",
    "ds_df['volume'] = df['new_vol']"
   ]
  },
  {
   "cell_type": "code",
   "execution_count": 28,
   "metadata": {},
   "outputs": [],
   "source": [
    "# #VERSION 1 - saving datastore to our post_processing directory\n",
    "# path = f'{os.curdir}/data/post_processing'\n",
    "# ds_df.to_csv(f'{path}/datastore.csv',index=True)\n",
    "\n",
    "# VERSION 2 \n",
    "#saving datastore to our post_processing directory\n",
    "path = f'{os.curdir}/data/post_processing'\n",
    "ds_df.to_csv(f'{path}/datastore_v2.csv',index=True)"
   ]
  },
  {
   "cell_type": "code",
   "execution_count": null,
   "metadata": {},
   "outputs": [],
   "source": []
  }
 ],
 "metadata": {
  "kernelspec": {
   "display_name": "Python 3",
   "language": "python",
   "name": "python3"
  },
  "language_info": {
   "codemirror_mode": {
    "name": "ipython",
    "version": 3
   },
   "file_extension": ".py",
   "mimetype": "text/x-python",
   "name": "python",
   "nbconvert_exporter": "python",
   "pygments_lexer": "ipython3",
   "version": "3.6.8"
  }
 },
 "nbformat": 4,
 "nbformat_minor": 2
}
